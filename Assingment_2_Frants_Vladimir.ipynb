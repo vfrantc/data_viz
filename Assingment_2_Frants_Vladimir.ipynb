{
  "nbformat": 4,
  "nbformat_minor": 0,
  "metadata": {
    "colab": {
      "name": "Assingment_2_Frants_Vladimir.ipynb",
      "provenance": [],
      "authorship_tag": "ABX9TyMvJI2W7BrkK+uM9x5kBO8k",
      "include_colab_link": true
    },
    "kernelspec": {
      "name": "python3",
      "display_name": "Python 3"
    }
  },
  "cells": [
    {
      "cell_type": "markdown",
      "metadata": {
        "id": "view-in-github",
        "colab_type": "text"
      },
      "source": [
        "<a href=\"https://colab.research.google.com/github/vfrantc/data_viz/blob/master/Assingment_2_Frants_Vladimir.ipynb\" target=\"_parent\"><img src=\"https://colab.research.google.com/assets/colab-badge.svg\" alt=\"Open In Colab\"/></a>"
      ]
    },
    {
      "cell_type": "markdown",
      "metadata": {
        "id": "L1LJeJJorTXJ"
      },
      "source": [
        "# HW2. Frants Vladimir"
      ]
    },
    {
      "cell_type": "code",
      "metadata": {
        "id": "fftZNVsl5Yoz",
        "outputId": "aea944c0-c4e1-4be0-a674-d425a8aaebc8",
        "colab": {
          "base_uri": "https://localhost:8080/",
          "height": 903
        }
      },
      "source": [
        "!sudo apt-get install libgeos-dev\n",
        "!pip3 install -U git+https://github.com/matplotlib/basemap.git"
      ],
      "execution_count": 11,
      "outputs": [
        {
          "output_type": "stream",
          "text": [
            "Reading package lists... Done\n",
            "Building dependency tree       \n",
            "Reading state information... Done\n",
            "Suggested packages:\n",
            "  libgdal-doc\n",
            "The following NEW packages will be installed:\n",
            "  libgeos-dev\n",
            "0 upgraded, 1 newly installed, 0 to remove and 21 not upgraded.\n",
            "Need to get 73.1 kB of archives.\n",
            "After this operation, 486 kB of additional disk space will be used.\n",
            "Get:1 http://archive.ubuntu.com/ubuntu bionic/universe amd64 libgeos-dev amd64 3.6.2-1build2 [73.1 kB]\n",
            "Fetched 73.1 kB in 0s (192 kB/s)\n",
            "debconf: unable to initialize frontend: Dialog\n",
            "debconf: (No usable dialog-like program is installed, so the dialog based frontend cannot be used. at /usr/share/perl5/Debconf/FrontEnd/Dialog.pm line 76, <> line 1.)\n",
            "debconf: falling back to frontend: Readline\n",
            "debconf: unable to initialize frontend: Readline\n",
            "debconf: (This frontend requires a controlling tty.)\n",
            "debconf: falling back to frontend: Teletype\n",
            "dpkg-preconfigure: unable to re-open stdin: \n",
            "Selecting previously unselected package libgeos-dev.\n",
            "(Reading database ... 144611 files and directories currently installed.)\n",
            "Preparing to unpack .../libgeos-dev_3.6.2-1build2_amd64.deb ...\n",
            "Unpacking libgeos-dev (3.6.2-1build2) ...\n",
            "Setting up libgeos-dev (3.6.2-1build2) ...\n",
            "Processing triggers for man-db (2.8.3-2ubuntu0.1) ...\n",
            "Collecting git+https://github.com/matplotlib/basemap.git\n",
            "  Cloning https://github.com/matplotlib/basemap.git to /tmp/pip-req-build-ysqsl2o0\n",
            "  Running command git clone -q https://github.com/matplotlib/basemap.git /tmp/pip-req-build-ysqsl2o0\n",
            "Requirement already satisfied, skipping upgrade: matplotlib!=3.0.1,>=1.0.0 in /usr/local/lib/python3.6/dist-packages (from basemap==1.2.1) (3.2.2)\n",
            "Requirement already satisfied, skipping upgrade: numpy>=1.2.1 in /usr/local/lib/python3.6/dist-packages (from basemap==1.2.1) (1.18.5)\n",
            "Collecting pyproj>=1.9.3\n",
            "\u001b[?25l  Downloading https://files.pythonhosted.org/packages/e5/c3/071e080230ac4b6c64f1a2e2f9161c9737a2bc7b683d2c90b024825000c0/pyproj-2.6.1.post1-cp36-cp36m-manylinux2010_x86_64.whl (10.9MB)\n",
            "\u001b[K     |████████████████████████████████| 10.9MB 2.6MB/s \n",
            "\u001b[?25hCollecting pyshp>=1.2.0\n",
            "\u001b[?25l  Downloading https://files.pythonhosted.org/packages/ca/1f/e9cc2c3fce32e2926581f8b6905831165235464c858ba550b6e9b8ef78c3/pyshp-2.1.2.tar.gz (217kB)\n",
            "\u001b[K     |████████████████████████████████| 225kB 41.4MB/s \n",
            "\u001b[?25hRequirement already satisfied, skipping upgrade: six in /usr/local/lib/python3.6/dist-packages (from basemap==1.2.1) (1.15.0)\n",
            "Requirement already satisfied, skipping upgrade: cycler>=0.10 in /usr/local/lib/python3.6/dist-packages (from matplotlib!=3.0.1,>=1.0.0->basemap==1.2.1) (0.10.0)\n",
            "Requirement already satisfied, skipping upgrade: pyparsing!=2.0.4,!=2.1.2,!=2.1.6,>=2.0.1 in /usr/local/lib/python3.6/dist-packages (from matplotlib!=3.0.1,>=1.0.0->basemap==1.2.1) (2.4.7)\n",
            "Requirement already satisfied, skipping upgrade: python-dateutil>=2.1 in /usr/local/lib/python3.6/dist-packages (from matplotlib!=3.0.1,>=1.0.0->basemap==1.2.1) (2.8.1)\n",
            "Requirement already satisfied, skipping upgrade: kiwisolver>=1.0.1 in /usr/local/lib/python3.6/dist-packages (from matplotlib!=3.0.1,>=1.0.0->basemap==1.2.1) (1.2.0)\n",
            "Building wheels for collected packages: basemap, pyshp\n",
            "  Building wheel for basemap (setup.py) ... \u001b[?25l\u001b[?25hdone\n",
            "  Created wheel for basemap: filename=basemap-1.2.1-cp36-cp36m-linux_x86_64.whl size=121756164 sha256=d18e838cecd0cd5606f8ea5cc9c3480bf1164fd7854197fa934994823e6db0a4\n",
            "  Stored in directory: /tmp/pip-ephem-wheel-cache-se6dsf93/wheels/3f/f3/56/de548b66967d0d661612b7618022e2c0d4b86b9a638cf6ccf3\n",
            "  Building wheel for pyshp (setup.py) ... \u001b[?25l\u001b[?25hdone\n",
            "  Created wheel for pyshp: filename=pyshp-2.1.2-cp36-none-any.whl size=36216 sha256=f604ef84c3e32c6078ff57c8ed72b34df7f91372accd6817275aa247b5567d22\n",
            "  Stored in directory: /root/.cache/pip/wheels/96/6c/53/4112475adf3b831da97f083163d0f38ee6daac9c1b13f7afea\n",
            "Successfully built basemap pyshp\n",
            "Installing collected packages: pyproj, pyshp, basemap\n",
            "Successfully installed basemap-1.2.1 pyproj-2.6.1.post1 pyshp-2.1.2\n"
          ],
          "name": "stdout"
        }
      ]
    },
    {
      "cell_type": "code",
      "metadata": {
        "id": "CucYPg1Xp_gU"
      },
      "source": [
        "import numpy as np\n",
        "import pandas as pd\n",
        "import matplotlib.pyplot as plt\n",
        "import seaborn as sns\n",
        "from mpl_toolkits.basemap import Basemap\n",
        "%matplotlib inline"
      ],
      "execution_count": 1,
      "outputs": []
    },
    {
      "cell_type": "code",
      "metadata": {
        "id": "1YKmkT_G5PG6",
        "outputId": "fe8c11bc-69aa-475e-e38e-875dd9bfcd0a",
        "colab": {
          "base_uri": "https://localhost:8080/",
          "height": 307
        }
      },
      "source": [
        "from mpl_toolkits.basemap import BaseMap"
      ],
      "execution_count": 12,
      "outputs": [
        {
          "output_type": "error",
          "ename": "ImportError",
          "evalue": "ignored",
          "traceback": [
            "\u001b[0;31m---------------------------------------------------------------------------\u001b[0m",
            "\u001b[0;31mImportError\u001b[0m                               Traceback (most recent call last)",
            "\u001b[0;32m<ipython-input-12-c7b462f228e0>\u001b[0m in \u001b[0;36m<module>\u001b[0;34m()\u001b[0m\n\u001b[0;32m----> 1\u001b[0;31m \u001b[0;32mfrom\u001b[0m \u001b[0mmpl_toolkits\u001b[0m\u001b[0;34m.\u001b[0m\u001b[0mbasemap\u001b[0m \u001b[0;32mimport\u001b[0m \u001b[0mBaseMap\u001b[0m\u001b[0;34m\u001b[0m\u001b[0;34m\u001b[0m\u001b[0m\n\u001b[0m",
            "\u001b[0;31mImportError\u001b[0m: cannot import name 'BaseMap'",
            "",
            "\u001b[0;31m---------------------------------------------------------------------------\u001b[0;32m\nNOTE: If your import is failing due to a missing package, you can\nmanually install dependencies using either !pip or !apt.\n\nTo view examples of installing some common dependencies, click the\n\"Open Examples\" button below.\n\u001b[0;31m---------------------------------------------------------------------------\u001b[0m\n"
          ]
        }
      ]
    },
    {
      "cell_type": "markdown",
      "metadata": {
        "id": "YFkMs5YmrrT6"
      },
      "source": [
        "# Load and augment the dataset"
      ]
    },
    {
      "cell_type": "code",
      "metadata": {
        "id": "UgY5BpijrqRW",
        "outputId": "721ba762-a767-4130-c55d-3900ecce813e",
        "colab": {
          "base_uri": "https://localhost:8080/",
          "height": 399
        }
      },
      "source": [
        "!wget https://raw.githubusercontent.com/vfrantc/data_viz/master/data/events_countries.txt\n",
        "!wget https://raw.githubusercontent.com/vfrantc/data_viz/master/data/events_countries_sources_years.txt"
      ],
      "execution_count": 2,
      "outputs": [
        {
          "output_type": "stream",
          "text": [
            "--2020-10-22 00:25:05--  https://raw.githubusercontent.com/vfrantc/data_viz/master/data/events_countries.txt\n",
            "Resolving raw.githubusercontent.com (raw.githubusercontent.com)... 151.101.0.133, 151.101.64.133, 151.101.128.133, ...\n",
            "Connecting to raw.githubusercontent.com (raw.githubusercontent.com)|151.101.0.133|:443... connected.\n",
            "HTTP request sent, awaiting response... 200 OK\n",
            "Length: 21789 (21K) [text/plain]\n",
            "Saving to: ‘events_countries.txt’\n",
            "\n",
            "events_countries.tx 100%[===================>]  21.28K  --.-KB/s    in 0.01s   \n",
            "\n",
            "2020-10-22 00:25:05 (1.69 MB/s) - ‘events_countries.txt’ saved [21789/21789]\n",
            "\n",
            "--2020-10-22 00:25:05--  https://raw.githubusercontent.com/vfrantc/data_viz/master/data/events_countries_sources_years.txt\n",
            "Resolving raw.githubusercontent.com (raw.githubusercontent.com)... 151.101.0.133, 151.101.64.133, 151.101.128.133, ...\n",
            "Connecting to raw.githubusercontent.com (raw.githubusercontent.com)|151.101.0.133|:443... connected.\n",
            "HTTP request sent, awaiting response... 200 OK\n",
            "Length: 166228 (162K) [text/plain]\n",
            "Saving to: ‘events_countries_sources_years.txt’\n",
            "\n",
            "events_countries_so 100%[===================>] 162.33K  --.-KB/s    in 0.04s   \n",
            "\n",
            "2020-10-22 00:25:05 (3.74 MB/s) - ‘events_countries_sources_years.txt’ saved [166228/166228]\n",
            "\n"
          ],
          "name": "stdout"
        }
      ]
    },
    {
      "cell_type": "code",
      "metadata": {
        "id": "bsuqLrRYseMY"
      },
      "source": [
        "df = pd.read_csv('events_countries.txt', sep=\"\\t\")"
      ],
      "execution_count": 5,
      "outputs": []
    },
    {
      "cell_type": "code",
      "metadata": {
        "id": "xAMCizWgtQlM",
        "outputId": "b9d54b79-b267-4da2-de51-5632a334972d",
        "colab": {
          "base_uri": "https://localhost:8080/",
          "height": 424
        }
      },
      "source": [
        "df"
      ],
      "execution_count": 6,
      "outputs": [
        {
          "output_type": "execute_result",
          "data": {
            "text/html": [
              "<div>\n",
              "<style scoped>\n",
              "    .dataframe tbody tr th:only-of-type {\n",
              "        vertical-align: middle;\n",
              "    }\n",
              "\n",
              "    .dataframe tbody tr th {\n",
              "        vertical-align: top;\n",
              "    }\n",
              "\n",
              "    .dataframe thead th {\n",
              "        text-align: right;\n",
              "    }\n",
              "</style>\n",
              "<table border=\"1\" class=\"dataframe\">\n",
              "  <thead>\n",
              "    <tr style=\"text-align: right;\">\n",
              "      <th></th>\n",
              "      <th>source</th>\n",
              "      <th>country</th>\n",
              "      <th>un_country</th>\n",
              "      <th>macro_region</th>\n",
              "      <th>meso_region</th>\n",
              "      <th>development_level</th>\n",
              "      <th>gdp_per_capita</th>\n",
              "      <th>gdp_volume</th>\n",
              "      <th>hdi</th>\n",
              "      <th>ECI</th>\n",
              "      <th>year</th>\n",
              "      <th>events</th>\n",
              "    </tr>\n",
              "  </thead>\n",
              "  <tbody>\n",
              "    <tr>\n",
              "      <th>1</th>\n",
              "      <td>TED</td>\n",
              "      <td>china</td>\n",
              "      <td>china</td>\n",
              "      <td>Asia</td>\n",
              "      <td>Eastern Asia</td>\n",
              "      <td>Developing economies</td>\n",
              "      <td>16782.0</td>\n",
              "      <td>2.326677e+13</td>\n",
              "      <td>0.758</td>\n",
              "      <td>0.691307</td>\n",
              "      <td>2009</td>\n",
              "      <td>72377</td>\n",
              "    </tr>\n",
              "    <tr>\n",
              "      <th>2</th>\n",
              "      <td>TED</td>\n",
              "      <td>united states</td>\n",
              "      <td>united states</td>\n",
              "      <td>Americas</td>\n",
              "      <td>Northern America</td>\n",
              "      <td>Developed economies</td>\n",
              "      <td>59928.0</td>\n",
              "      <td>1.948539e+13</td>\n",
              "      <td>0.920</td>\n",
              "      <td>1.755410</td>\n",
              "      <td>2009</td>\n",
              "      <td>1976947</td>\n",
              "    </tr>\n",
              "    <tr>\n",
              "      <th>3</th>\n",
              "      <td>TED</td>\n",
              "      <td>india</td>\n",
              "      <td>india</td>\n",
              "      <td>Asia</td>\n",
              "      <td>Southern Asia</td>\n",
              "      <td>Developing economies</td>\n",
              "      <td>7169.0</td>\n",
              "      <td>9.596835e+12</td>\n",
              "      <td>0.647</td>\n",
              "      <td>0.359807</td>\n",
              "      <td>2009</td>\n",
              "      <td>60724</td>\n",
              "    </tr>\n",
              "    <tr>\n",
              "      <th>4</th>\n",
              "      <td>TED</td>\n",
              "      <td>japan</td>\n",
              "      <td>japan</td>\n",
              "      <td>Asia</td>\n",
              "      <td>Eastern Asia</td>\n",
              "      <td>Developed economies</td>\n",
              "      <td>41959.0</td>\n",
              "      <td>5.319800e+12</td>\n",
              "      <td>0.915</td>\n",
              "      <td>2.309380</td>\n",
              "      <td>2009</td>\n",
              "      <td>28989</td>\n",
              "    </tr>\n",
              "    <tr>\n",
              "      <th>5</th>\n",
              "      <td>TED</td>\n",
              "      <td>germany</td>\n",
              "      <td>germany</td>\n",
              "      <td>Europe</td>\n",
              "      <td>Western Europe</td>\n",
              "      <td>Developed economies</td>\n",
              "      <td>52574.0</td>\n",
              "      <td>4.345631e+12</td>\n",
              "      <td>0.939</td>\n",
              "      <td>2.075370</td>\n",
              "      <td>2010</td>\n",
              "      <td>83015</td>\n",
              "    </tr>\n",
              "    <tr>\n",
              "      <th>...</th>\n",
              "      <td>...</td>\n",
              "      <td>...</td>\n",
              "      <td>...</td>\n",
              "      <td>...</td>\n",
              "      <td>...</td>\n",
              "      <td>...</td>\n",
              "      <td>...</td>\n",
              "      <td>...</td>\n",
              "      <td>...</td>\n",
              "      <td>...</td>\n",
              "      <td>...</td>\n",
              "      <td>...</td>\n",
              "    </tr>\n",
              "    <tr>\n",
              "      <th>172</th>\n",
              "      <td>TED</td>\n",
              "      <td>são tomé and príncipe</td>\n",
              "      <td>são tomé and príncipe</td>\n",
              "      <td>Africa</td>\n",
              "      <td>Middle Africa</td>\n",
              "      <td>Developing economies</td>\n",
              "      <td>3313.0</td>\n",
              "      <td>6.860295e+08</td>\n",
              "      <td>0.609</td>\n",
              "      <td>NaN</td>\n",
              "      <td>2015</td>\n",
              "      <td>5</td>\n",
              "    </tr>\n",
              "    <tr>\n",
              "      <th>173</th>\n",
              "      <td>MEETUP</td>\n",
              "      <td>federated states of micronesia</td>\n",
              "      <td>federated states of micronesia</td>\n",
              "      <td>Oceania</td>\n",
              "      <td>Oceania</td>\n",
              "      <td>Developing economies</td>\n",
              "      <td>3504.0</td>\n",
              "      <td>3.905965e+08</td>\n",
              "      <td>0.614</td>\n",
              "      <td>NaN</td>\n",
              "      <td>2007</td>\n",
              "      <td>3</td>\n",
              "    </tr>\n",
              "    <tr>\n",
              "      <th>174</th>\n",
              "      <td>TED</td>\n",
              "      <td>hong kong</td>\n",
              "      <td>NaN</td>\n",
              "      <td>NaN</td>\n",
              "      <td>NaN</td>\n",
              "      <td>NaN</td>\n",
              "      <td>NaN</td>\n",
              "      <td>NaN</td>\n",
              "      <td>NaN</td>\n",
              "      <td>NaN</td>\n",
              "      <td>2017</td>\n",
              "      <td>199</td>\n",
              "    </tr>\n",
              "    <tr>\n",
              "      <th>175</th>\n",
              "      <td>MEETUP</td>\n",
              "      <td>vatican city</td>\n",
              "      <td>holy see</td>\n",
              "      <td>Europe</td>\n",
              "      <td>Southern Europe</td>\n",
              "      <td>Developed economies</td>\n",
              "      <td>NaN</td>\n",
              "      <td>NaN</td>\n",
              "      <td>NaN</td>\n",
              "      <td>NaN</td>\n",
              "      <td>2007</td>\n",
              "      <td>3</td>\n",
              "    </tr>\n",
              "    <tr>\n",
              "      <th>176</th>\n",
              "      <td>BEHANCE</td>\n",
              "      <td>north korea</td>\n",
              "      <td>north korea</td>\n",
              "      <td>Asia</td>\n",
              "      <td>Eastern Asia</td>\n",
              "      <td>Developing economies</td>\n",
              "      <td>NaN</td>\n",
              "      <td>NaN</td>\n",
              "      <td>NaN</td>\n",
              "      <td>NaN</td>\n",
              "      <td>2017</td>\n",
              "      <td>48</td>\n",
              "    </tr>\n",
              "  </tbody>\n",
              "</table>\n",
              "<p>176 rows × 12 columns</p>\n",
              "</div>"
            ],
            "text/plain": [
              "      source                         country  ...  year   events\n",
              "1        TED                           china  ...  2009    72377\n",
              "2        TED                   united states  ...  2009  1976947\n",
              "3        TED                           india  ...  2009    60724\n",
              "4        TED                           japan  ...  2009    28989\n",
              "5        TED                         germany  ...  2010    83015\n",
              "..       ...                             ...  ...   ...      ...\n",
              "172      TED           são tomé and príncipe  ...  2015        5\n",
              "173   MEETUP  federated states of micronesia  ...  2007        3\n",
              "174      TED                       hong kong  ...  2017      199\n",
              "175   MEETUP                    vatican city  ...  2007        3\n",
              "176  BEHANCE                     north korea  ...  2017       48\n",
              "\n",
              "[176 rows x 12 columns]"
            ]
          },
          "metadata": {
            "tags": []
          },
          "execution_count": 6
        }
      ]
    },
    {
      "cell_type": "markdown",
      "metadata": {
        "id": "6iaOSOx541M_"
      },
      "source": [
        "# Augment data with country coordinates and bubble plot"
      ]
    },
    {
      "cell_type": "code",
      "metadata": {
        "id": "sHy2xgtmtRDv"
      },
      "source": [
        ""
      ],
      "execution_count": null,
      "outputs": []
    },
    {
      "cell_type": "code",
      "metadata": {
        "id": "PxotloKc5LGO"
      },
      "source": [
        ""
      ],
      "execution_count": null,
      "outputs": []
    },
    {
      "cell_type": "code",
      "metadata": {
        "id": "XbiDbq3d5LMr"
      },
      "source": [
        ""
      ],
      "execution_count": null,
      "outputs": []
    },
    {
      "cell_type": "code",
      "metadata": {
        "id": "7DTnWeLm5LRd"
      },
      "source": [
        ""
      ],
      "execution_count": null,
      "outputs": []
    },
    {
      "cell_type": "markdown",
      "metadata": {
        "id": "BWvgnOqy49ON"
      },
      "source": [
        "# Explore the correlation between the number of events and COVID-19 cases"
      ]
    },
    {
      "cell_type": "code",
      "metadata": {
        "id": "Ff_edCeT5KZL"
      },
      "source": [
        ""
      ],
      "execution_count": null,
      "outputs": []
    }
  ]
}