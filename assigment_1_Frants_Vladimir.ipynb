{
  "nbformat": 4,
  "nbformat_minor": 0,
  "metadata": {
    "colab": {
      "name": "assigment_1_Frants_Vladimir.ipynb",
      "provenance": [],
      "authorship_tag": "ABX9TyOmHNu70tK1cmM9RWb7Bfdl",
      "include_colab_link": true
    },
    "kernelspec": {
      "name": "python3",
      "display_name": "Python 3"
    }
  },
  "cells": [
    {
      "cell_type": "markdown",
      "metadata": {
        "id": "view-in-github",
        "colab_type": "text"
      },
      "source": [
        "<a href=\"https://colab.research.google.com/github/vfrantc/data_viz/blob/master/assigment_1_Frants_Vladimir.ipynb\" target=\"_parent\"><img src=\"https://colab.research.google.com/assets/colab-badge.svg\" alt=\"Open In Colab\"/></a>"
      ]
    },
    {
      "cell_type": "markdown",
      "metadata": {
        "id": "fvIbLLwbnM9M",
        "colab_type": "text"
      },
      "source": [
        "# HW1. Frants Vladimir\n",
        "\n",
        "Use Vincent van Gogh paintings dataset\n",
        "Create 2 visualizations (described below) using any software\n",
        "If your outputs are still images - use the Add Image function in Milanote and place these 2 images inside your home assignment 1 board\n",
        "if you made interactive visualizations and published them in the web, then to the following to share it with the instructor \n",
        "\n",
        "* take a screenshot, add as an image (same as normal image); \n",
        "* use Add Caption function and place the link to the web visualization into the caption."
      ]
    },
    {
      "cell_type": "code",
      "metadata": {
        "id": "dm2CkxHJcAPD",
        "colab_type": "code",
        "colab": {}
      },
      "source": [
        "import numpy as np\n",
        "import pandas as pd\n",
        "import matplotlib.pyplot as plt\n",
        "import seaborn as sns\n",
        "%matplotlib inline"
      ],
      "execution_count": 55,
      "outputs": []
    },
    {
      "cell_type": "markdown",
      "metadata": {
        "id": "huIMh95One3A",
        "colab_type": "text"
      },
      "source": [
        "# Load the dataset"
      ]
    },
    {
      "cell_type": "code",
      "metadata": {
        "id": "FCAL2SZZlBX2",
        "colab_type": "code",
        "colab": {
          "base_uri": "https://localhost:8080/",
          "height": 208
        },
        "outputId": "48b8ae0b-598e-40bf-ba05-59e9ec91c972"
      },
      "source": [
        "!wget https://raw.githubusercontent.com/vfrantc/data_viz/master/data/van_gogh_genre.csv"
      ],
      "execution_count": 56,
      "outputs": [
        {
          "output_type": "stream",
          "text": [
            "--2020-09-25 02:58:19--  https://raw.githubusercontent.com/vfrantc/data_viz/master/data/van_gogh_genre.csv\n",
            "Resolving raw.githubusercontent.com (raw.githubusercontent.com)... 151.101.0.133, 151.101.64.133, 151.101.128.133, ...\n",
            "Connecting to raw.githubusercontent.com (raw.githubusercontent.com)|151.101.0.133|:443... connected.\n",
            "HTTP request sent, awaiting response... 200 OK\n",
            "Length: 119287 (116K) [text/plain]\n",
            "Saving to: ‘van_gogh_genre.csv.2’\n",
            "\n",
            "van_gogh_genre.csv. 100%[===================>] 116.49K  --.-KB/s    in 0.01s   \n",
            "\n",
            "2020-09-25 02:58:19 (9.81 MB/s) - ‘van_gogh_genre.csv.2’ saved [119287/119287]\n",
            "\n"
          ],
          "name": "stdout"
        }
      ]
    },
    {
      "cell_type": "code",
      "metadata": {
        "id": "12ZtkiIBcfOV",
        "colab_type": "code",
        "colab": {}
      },
      "source": [
        "df = pd.read_csv('van_gogh_genre.csv')"
      ],
      "execution_count": 57,
      "outputs": []
    },
    {
      "cell_type": "code",
      "metadata": {
        "id": "7FkuIeFwnmrn",
        "colab_type": "code",
        "colab": {
          "base_uri": "https://localhost:8080/",
          "height": 452
        },
        "outputId": "75e447a6-9493-4e40-8a01-586bdc4e35a1"
      },
      "source": [
        "df.head()"
      ],
      "execution_count": 58,
      "outputs": [
        {
          "output_type": "execute_result",
          "data": {
            "text/html": [
              "<div>\n",
              "<style scoped>\n",
              "    .dataframe tbody tr th:only-of-type {\n",
              "        vertical-align: middle;\n",
              "    }\n",
              "\n",
              "    .dataframe tbody tr th {\n",
              "        vertical-align: top;\n",
              "    }\n",
              "\n",
              "    .dataframe thead th {\n",
              "        text-align: right;\n",
              "    }\n",
              "</style>\n",
              "<table border=\"1\" class=\"dataframe\">\n",
              "  <thead>\n",
              "    <tr style=\"text-align: right;\">\n",
              "      <th></th>\n",
              "      <th>Filename</th>\n",
              "      <th>image_num</th>\n",
              "      <th>image_proportion</th>\n",
              "      <th>brightness_median</th>\n",
              "      <th>brightness_stdev</th>\n",
              "      <th>saturation_median</th>\n",
              "      <th>saturation_stdev</th>\n",
              "      <th>hue_median</th>\n",
              "      <th>hue_stdev</th>\n",
              "      <th>Genre.UPDATED</th>\n",
              "      <th>Genre</th>\n",
              "      <th>Genre_gen</th>\n",
              "      <th>Year_Month</th>\n",
              "      <th>Label_Place</th>\n",
              "      <th>Unnamed: 14</th>\n",
              "      <th>Year</th>\n",
              "      <th>Month</th>\n",
              "      <th>Season</th>\n",
              "      <th>Title</th>\n",
              "    </tr>\n",
              "  </thead>\n",
              "  <tbody>\n",
              "    <tr>\n",
              "      <th>0</th>\n",
              "      <td>001.jpg</td>\n",
              "      <td>1</td>\n",
              "      <td>0.6027</td>\n",
              "      <td>68</td>\n",
              "      <td>38.1091</td>\n",
              "      <td>80</td>\n",
              "      <td>30.8723</td>\n",
              "      <td>31</td>\n",
              "      <td>11.6209</td>\n",
              "      <td>still-life</td>\n",
              "      <td>still-life</td>\n",
              "      <td>still-life</td>\n",
              "      <td>1881.8340</td>\n",
              "      <td>1_Early</td>\n",
              "      <td>1881.916667</td>\n",
              "      <td>1881.0</td>\n",
              "      <td>11</td>\n",
              "      <td>fall</td>\n",
              "      <td>Valley with Ploughman Seen from Above</td>\n",
              "    </tr>\n",
              "    <tr>\n",
              "      <th>1</th>\n",
              "      <td>002.jpg</td>\n",
              "      <td>2</td>\n",
              "      <td>0.9100</td>\n",
              "      <td>23</td>\n",
              "      <td>60.8221</td>\n",
              "      <td>170</td>\n",
              "      <td>65.5958</td>\n",
              "      <td>8</td>\n",
              "      <td>86.5111</td>\n",
              "      <td>still-life</td>\n",
              "      <td>still-life</td>\n",
              "      <td>still-life</td>\n",
              "      <td>1881.8340</td>\n",
              "      <td>1_Early</td>\n",
              "      <td>1881.916667</td>\n",
              "      <td>1881.0</td>\n",
              "      <td>11</td>\n",
              "      <td>fall</td>\n",
              "      <td>Wooden Sheds</td>\n",
              "    </tr>\n",
              "    <tr>\n",
              "      <th>2</th>\n",
              "      <td>003.jpg</td>\n",
              "      <td>3</td>\n",
              "      <td>0.6800</td>\n",
              "      <td>61</td>\n",
              "      <td>78.5414</td>\n",
              "      <td>173</td>\n",
              "      <td>60.2914</td>\n",
              "      <td>12</td>\n",
              "      <td>55.2197</td>\n",
              "      <td>still-life</td>\n",
              "      <td>still-life</td>\n",
              "      <td>still-life</td>\n",
              "      <td>1881.8340</td>\n",
              "      <td>1_Early</td>\n",
              "      <td>1881.916667</td>\n",
              "      <td>1881.0</td>\n",
              "      <td>11</td>\n",
              "      <td>fall</td>\n",
              "      <td>First Steps (after Millet)</td>\n",
              "    </tr>\n",
              "    <tr>\n",
              "      <th>3</th>\n",
              "      <td>004.jpg</td>\n",
              "      <td>4</td>\n",
              "      <td>0.6825</td>\n",
              "      <td>210</td>\n",
              "      <td>62.8654</td>\n",
              "      <td>92</td>\n",
              "      <td>75.0203</td>\n",
              "      <td>44</td>\n",
              "      <td>62.3412</td>\n",
              "      <td>landscape</td>\n",
              "      <td>landscape</td>\n",
              "      <td>landscape</td>\n",
              "      <td>1882.5838</td>\n",
              "      <td>1_Early</td>\n",
              "      <td>1882.666667</td>\n",
              "      <td>1882.0</td>\n",
              "      <td>8</td>\n",
              "      <td>summer</td>\n",
              "      <td>Still Life: Vase with Oleanders and Books</td>\n",
              "    </tr>\n",
              "    <tr>\n",
              "      <th>4</th>\n",
              "      <td>005.jpg</td>\n",
              "      <td>5</td>\n",
              "      <td>1.3710</td>\n",
              "      <td>84</td>\n",
              "      <td>60.8210</td>\n",
              "      <td>57</td>\n",
              "      <td>29.2818</td>\n",
              "      <td>51</td>\n",
              "      <td>63.9256</td>\n",
              "      <td>cityscape</td>\n",
              "      <td>cityscape</td>\n",
              "      <td>cityscape</td>\n",
              "      <td>1882.5838</td>\n",
              "      <td>1_Early</td>\n",
              "      <td>1882.666667</td>\n",
              "      <td>1882.0</td>\n",
              "      <td>8</td>\n",
              "      <td>summer</td>\n",
              "      <td>Still Life: Vase with Twelve Sunflowers</td>\n",
              "    </tr>\n",
              "  </tbody>\n",
              "</table>\n",
              "</div>"
            ],
            "text/plain": [
              "  Filename  image_num  ...  Season                                      Title\n",
              "0  001.jpg          1  ...    fall      Valley with Ploughman Seen from Above\n",
              "1  002.jpg          2  ...    fall                               Wooden Sheds\n",
              "2  003.jpg          3  ...    fall                 First Steps (after Millet)\n",
              "3  004.jpg          4  ...  summer  Still Life: Vase with Oleanders and Books\n",
              "4  005.jpg          5  ...  summer    Still Life: Vase with Twelve Sunflowers\n",
              "\n",
              "[5 rows x 19 columns]"
            ]
          },
          "metadata": {
            "tags": []
          },
          "execution_count": 58
        }
      ]
    },
    {
      "cell_type": "markdown",
      "metadata": {
        "id": "IvcHWwKMqG5s",
        "colab_type": "text"
      },
      "source": [
        "# Some data wrangling"
      ]
    },
    {
      "cell_type": "code",
      "metadata": {
        "id": "PPvaYI7vqJwS",
        "colab_type": "code",
        "colab": {
          "base_uri": "https://localhost:8080/",
          "height": 86
        },
        "outputId": "7a86d1fc-a25c-4730-e71b-f978f83b8cd1"
      },
      "source": [
        "df.Genre.unique()"
      ],
      "execution_count": 59,
      "outputs": [
        {
          "output_type": "execute_result",
          "data": {
            "text/plain": [
              "array(['still-life', 'landscape', 'cityscape', 'Figural composition',\n",
              "       'seascape', 'genre scene', 'rural town or village', 'animals',\n",
              "       'portrait', 'nude', 'figure studies', 'self-portrait',\n",
              "       'Japanese copies', 'religious'], dtype=object)"
            ]
          },
          "metadata": {
            "tags": []
          },
          "execution_count": 59
        }
      ]
    },
    {
      "cell_type": "code",
      "metadata": {
        "id": "MyVdK7THqJ0A",
        "colab_type": "code",
        "colab": {
          "base_uri": "https://localhost:8080/",
          "height": 34
        },
        "outputId": "5c4349a8-c55f-4382-f3a7-11e55761ff84"
      },
      "source": [
        "df.Season.unique()"
      ],
      "execution_count": 60,
      "outputs": [
        {
          "output_type": "execute_result",
          "data": {
            "text/plain": [
              "array(['fall', 'summer', 'spring', 'winter'], dtype=object)"
            ]
          },
          "metadata": {
            "tags": []
          },
          "execution_count": 60
        }
      ]
    },
    {
      "cell_type": "code",
      "metadata": {
        "id": "8JoY-UDoqKS5",
        "colab_type": "code",
        "colab": {
          "base_uri": "https://localhost:8080/",
          "height": 52
        },
        "outputId": "04e36023-a08c-4915-98c6-a65363873c23"
      },
      "source": [
        "df.Label_Place.unique()"
      ],
      "execution_count": 61,
      "outputs": [
        {
          "output_type": "execute_result",
          "data": {
            "text/plain": [
              "array(['1_Early', '2_Paris', '3_Arles', '4_Saint-Remy-de-Provence_asylum',\n",
              "       '5_Auvers-sur-Oise'], dtype=object)"
            ]
          },
          "metadata": {
            "tags": []
          },
          "execution_count": 61
        }
      ]
    },
    {
      "cell_type": "code",
      "metadata": {
        "id": "YPn0W4tC-MYH",
        "colab_type": "code",
        "colab": {}
      },
      "source": [
        "df = df.replace({'Label_Place': {'1_Early' : 'Early', \n",
        "                            '2_Paris' : 'Paris', \n",
        "                            '3_Arles' : 'Arles', \n",
        "                            '4_Saint-Remy-de-Provence_asylum' : 'Saint Remy',\n",
        "                            '5_Auvers-sur-Oise' : 'Auvers'},\n",
        "            'Season': {'winter': 'Winter',\n",
        "                       'spring': 'Spring',\n",
        "                       'summer': 'Summer',\n",
        "                       'fall': 'Fall'}})"
      ],
      "execution_count": 62,
      "outputs": []
    },
    {
      "cell_type": "code",
      "metadata": {
        "id": "Kahdxlxu_DJ0",
        "colab_type": "code",
        "colab": {}
      },
      "source": [
        ""
      ],
      "execution_count": 62,
      "outputs": []
    },
    {
      "cell_type": "markdown",
      "metadata": {
        "id": "x9Qxah2gqKcp",
        "colab_type": "text"
      },
      "source": [
        "# Visualization 1\n",
        "\n",
        "Explore the relations between `genres`, `seasons`, and `places` where the artist worked. Are there any patterns present?  (you can if you like manipulate these categories, creating larger ones, or breaking them in different ways). If it does not work out to use all 3, use 2."
      ]
    },
    {
      "cell_type": "code",
      "metadata": {
        "id": "7oJCLubDvWYK",
        "colab_type": "code",
        "colab": {
          "base_uri": "https://localhost:8080/",
          "height": 1000
        },
        "outputId": "9e76f4b8-8130-431b-ff11-c867e5637d72"
      },
      "source": [
        "# Initialize a grid of plots with an Axes for each walk\n",
        "grid = sns.FacetGrid(df, \n",
        "                     col='Season',\n",
        "                     col_order=['Winter', 'Spring', 'Summer', 'Fall'], \n",
        "                     row='Label_Place',\n",
        "                     row_order=['Early', 'Paris', 'Arles', 'Saint Remy', 'Auvers'],\n",
        "                     hue='Season', \n",
        "                     palette=\"coolwarm\",\n",
        "                     margin_titles=True)\n",
        "\n",
        "# Draw a line plot to show the trajectory of each random walk\n",
        "grid.map(plt.hist, \"Genre\", orientation='horizontal')\n",
        "[plt.setp(ax.texts, text=\"\") for ax in grid.axes.flat] # remove the original texts\n",
        "                                                    # important to add this before setting titles\n",
        "grid.set_titles(row_template = '{row_name}', col_template = '{col_name}')\n",
        "grid.fig.tight_layout(w_pad=1)\n",
        "\n",
        "for ax in grid.axes.flat:\n",
        "  ax.set_xticks([])\n",
        "  ax.set_yticklabels(df.Genre.unique())\n",
        "\n",
        "grid.set_xlabels('')"
      ],
      "execution_count": 73,
      "outputs": [
        {
          "output_type": "execute_result",
          "data": {
            "text/plain": [
              "<seaborn.axisgrid.FacetGrid at 0x7f7e84551208>"
            ]
          },
          "metadata": {
            "tags": []
          },
          "execution_count": 73
        },
        {
          "output_type": "display_data",
          "data": {
            "image/png": "[encoded data removed]",
            "text/plain": [
              "<Figure size 864x1080 with 20 Axes>"
            ]
          },
          "metadata": {
            "tags": [],
            "needs_background": "light"
          }
        }
      ]
    },
    {
      "cell_type": "markdown",
      "metadata": {
        "id": "nCLnXNexqetr",
        "colab_type": "text"
      },
      "source": [
        "# Visualization 2\n",
        "\n",
        "Create a visualization that highlights some of the \"outliers\" among van Gogh paintings using the data provided. Optional: Add the names of these outlier works."
      ]
    },
    {
      "cell_type": "code",
      "metadata": {
        "id": "YJ0nWbYLp3Hv",
        "colab_type": "code",
        "colab": {}
      },
      "source": [
        "sns.scatterplot(x=\"brig\")"
      ],
      "execution_count": null,
      "outputs": []
    },
    {
      "cell_type": "code",
      "metadata": {
        "id": "NufGcsKyqEeG",
        "colab_type": "code",
        "colab": {}
      },
      "source": [
        ""
      ],
      "execution_count": null,
      "outputs": []
    }
  ]
}